{
 "cells": [
  {
   "cell_type": "code",
   "execution_count": null,
   "id": "09125fe7",
   "metadata": {},
   "outputs": [],
   "source": []
  },
  {
   "cell_type": "markdown",
   "id": "d13e5bd8",
   "metadata": {},
   "source": [
    "# Two sum\n",
    "Given an array of integers nums and an integer target, return indices of the two numbers such that they add up to target.\n",
    "\n",
    "You may assume that each input would have exactly one solution, and you may not use the same element twice.\n",
    "\n",
    "You can return the answer in any order."
   ]
  },
  {
   "cell_type": "code",
   "execution_count": 1,
   "id": "fc3a0381",
   "metadata": {},
   "outputs": [
    {
     "data": {
      "text/plain": [
       "(2, 3)"
      ]
     },
     "execution_count": 1,
     "metadata": {},
     "output_type": "execute_result"
    }
   ],
   "source": [
    "def get_indices(list_of_integer, target):\n",
    "    for i in range(len (list_of_integer)):\n",
    "        for j in range(i+1,len (list_of_integer)):\n",
    "            if i + j == target:\n",
    "                return i, j \n",
    "            \n",
    "get_indices([1,2,3,4,],5) "
   ]
  },
  {
   "cell_type": "code",
   "execution_count": null,
   "id": "520a4809",
   "metadata": {},
   "outputs": [],
   "source": []
  },
  {
   "cell_type": "markdown",
   "id": "727516a3",
   "metadata": {},
   "source": [
    "# 7. Reverse Integer\n",
    "\n",
    "Given a signed 32-bit integer x, return x with its digits reversed. If reversing x causes the value to go outside the signed 32-bit integer range [-231, 231 - 1], then return 0."
   ]
  },
  {
   "cell_type": "code",
   "execution_count": null,
   "id": "88d72090",
   "metadata": {},
   "outputs": [],
   "source": [
    "def reverse(self, x: int) -> int:\n",
    "    number = str(x)\n",
    "    return int(number[::-1])"
   ]
  },
  {
   "cell_type": "markdown",
   "id": "e1d4f337",
   "metadata": {},
   "source": [
    "# 9. Palindrome Number\n",
    "Given an integer x, return true if x is palindrome integer.\n",
    "\n",
    "An integer is a palindrome when it reads the same backward as forward. For example, 121 is palindrome while 123 is not."
   ]
  },
  {
   "cell_type": "code",
   "execution_count": null,
   "id": "ea86e4c6",
   "metadata": {},
   "outputs": [],
   "source": [
    "def isPalindrome(self, x: int) -> bool:\n",
    "    number = str(x)\n",
    "    z =int(number[::-1])\n",
    "    if x == z:\n",
    "        return True\n",
    "    else:\n",
    "        return False"
   ]
  },
  {
   "cell_type": "code",
   "execution_count": null,
   "id": "4572d22b",
   "metadata": {},
   "outputs": [],
   "source": []
  },
  {
   "cell_type": "code",
   "execution_count": null,
   "id": "f6fde645",
   "metadata": {},
   "outputs": [],
   "source": []
  },
  {
   "cell_type": "markdown",
   "id": "d2cb71a5",
   "metadata": {},
   "source": [
    "Given an integer n, return true if n has exactly three positive divisors. Otherwise, return false.\n",
    "\n",
    "An integer m is a divisor of n if there exists an integer k such that n = k * m."
   ]
  },
  {
   "cell_type": "code",
   "execution_count": 3,
   "id": "a23dffea",
   "metadata": {},
   "outputs": [
    {
     "data": {
      "text/plain": [
       "True"
      ]
     },
     "execution_count": 3,
     "metadata": {},
     "output_type": "execute_result"
    }
   ],
   "source": [
    "class Solution:    \n",
    "    \n",
    "    def divisor(self,n):\n",
    "        count = 0\n",
    "        for i in range(1, n + 1):\n",
    "            if n % i == 0:\n",
    "                count  = count+1\n",
    "        if count == 3:\n",
    "            return True\n",
    "        else:\n",
    "             return False\n",
    "      \n",
    "            \n",
    "o = Solution()  \n",
    "o.divisor(4)\n"
   ]
  },
  {
   "cell_type": "code",
   "execution_count": 2,
   "id": "5e8121b6",
   "metadata": {},
   "outputs": [
    {
     "data": {
      "text/plain": [
       "False"
      ]
     },
     "execution_count": 2,
     "metadata": {},
     "output_type": "execute_result"
    }
   ],
   "source": [
    "class Solution:\n",
    "    def isThree(self, n: int) -> bool:\n",
    "        count  = 0 \n",
    "        if len([i for i in range(1,n+1) if not n % i]) == 3:\n",
    "            return True\n",
    "        else:\n",
    "             return False\n",
    "            \n",
    "            \n",
    "\n",
    "o = Solution()  \n",
    "o.isThree(5)"
   ]
  },
  {
   "cell_type": "code",
   "execution_count": null,
   "id": "60d0f0f2",
   "metadata": {},
   "outputs": [],
   "source": []
  }
 ],
 "metadata": {
  "kernelspec": {
   "display_name": "Python 3",
   "language": "python",
   "name": "python3"
  },
  "language_info": {
   "codemirror_mode": {
    "name": "ipython",
    "version": 3
   },
   "file_extension": ".py",
   "mimetype": "text/x-python",
   "name": "python",
   "nbconvert_exporter": "python",
   "pygments_lexer": "ipython3",
   "version": "3.8.8"
  }
 },
 "nbformat": 4,
 "nbformat_minor": 5
}
